{
 "cells": [
  {
   "cell_type": "markdown",
   "id": "934d6d87",
   "metadata": {},
   "source": [
    "# TD DE PROGRAMMATION EN PHYTON\n",
    "Étudiante: TIRADO FABIAN Lourdes del Pilar\n",
    "    \n",
    "EXERCICE 1: Manipulation d'une chaîne d'ADN\n",
    "    La fonction 'exercice1' prend comme argument une chaine de caractères comme une chaine ADN par exemple.\n",
    "    à l'aide de cette fonction on pourra acquerir information et faire des  modifications sur la chaine d'ADN donné,\n",
    "    cette fonction comprenne les procedures suivants effectuees un après l'autre:\n",
    "        - Affichage de la chaine \n",
    "        - Connaitre la longitud de la chaine ADN\n",
    "        - Afficher  la première base de la chaine ADN\n",
    "        - Ajoute du fragment \"tga\" au début de chaine\n",
    "        - Ajoute du fragment \"ccc\" à la fin de chaine\n",
    "        - Connaitre le longeur de la nouvelle chaine."
   ]
  },
  {
   "cell_type": "code",
   "execution_count": 2,
   "id": "c3308de2",
   "metadata": {},
   "outputs": [],
   "source": [
    "# declaration de valeurs pour l'exercice 1 \n",
    "adn1 = \"atgagtgaacgtctgagcattaccccgctggggccgtatatcggcgcatga\"\n",
    "adn2 = \"atgagtgaacgtctgagcattaccccgctggggccgtatatcggcgcacaataactaa\"\n",
    "adn3 = \"atgagtgaatag\"\n",
    "adn4 = \"ataygt\"\n",
    "adn5 = \"atagcgagaggctgagcattaccccgctggggccgtatatcggcgcacaataacccaaataa\""
   ]
  },
  {
   "cell_type": "code",
   "execution_count": 3,
   "id": "9d4d7fa7",
   "metadata": {},
   "outputs": [
    {
     "name": "stdout",
     "output_type": "stream",
     "text": [
      "1.Chaine atgagtgaacgtctgagcattaccccgctggggccgtatatcggcgcatga\n",
      "2.La longeur de la chaine atgagtgaacgtctgagcattaccccgctggggccgtatatcggcgcatga est: 51\n",
      "3.La premier base d´adn est: a\n",
      "4.Ajout de tga: tgaatgagtgaacgtctgagcattaccccgctggggccgtatatcggcgcatga\n",
      "5.Ajoute du fragment ccc à la fin: tgaatgagtgaacgtctgagcattaccccgctggggccgtatatcggcgcatgaccc\n",
      "6.Longeur de la nouvelle chaine: 57\n"
     ]
    }
   ],
   "source": [
    "def exercice1(adn):\n",
    "    print('1.Chaine', adn)\n",
    "    print ('2.La longeur de la chaine', adn, 'est:',len (adn))\n",
    "    print ('3.La premier base d´adn est:', adn[0])\n",
    "    a1= adn.split()\n",
    "    a1.insert(0,'tga')\n",
    "    c = ''.join(a1)\n",
    "    print ('4.Ajout de tga:',c)\n",
    "    a1.append('ccc')\n",
    "    f = ''.join(a1)\n",
    "    print ('5.Ajoute du fragment ccc à la fin:', f)\n",
    "    print('6.Longeur de la nouvelle chaine:', len (f))\n",
    "# Exemple d'output sur une des chaines ADN:\n",
    "exercice1(adn1)"
   ]
  },
  {
   "cell_type": "markdown",
   "id": "2d55608a",
   "metadata": {},
   "source": [
    "# VÉRIFICATION DE LA CHAÎNE D'ADN:\n",
    "Dans un premier temps on defini la fonction est_adn pour verifier que tous les\n",
    "élements de la chaine donné correspondent avec une chaine ADN-\n",
    "Ensuite est définie la focntion est_gene qui prend comme paramètre une séquence ADN \n",
    "ici on considère qu'une séquence est un gène si celle-ci commence par un codon méthionine\n",
    "(ATG) et se termine par un codon STOP (TAA, TAG, TGA)."
   ]
  },
  {
   "cell_type": "code",
   "execution_count": 4,
   "id": "a3f3e200",
   "metadata": {},
   "outputs": [
    {
     "data": {
      "text/plain": [
       "'True'"
      ]
     },
     "execution_count": 4,
     "metadata": {},
     "output_type": "execute_result"
    }
   ],
   "source": [
    "# la fonction est_adn prend comme argument une chaine de caractères et retourne True si la \n",
    "#chaine corresponde à une chaine d'ADN et false dans le cas contraire \n",
    "def est_adn(adn):\n",
    "    l=[]\n",
    "    for i in list(set(adn)):\n",
    "        if i in [\"t\",\"g\",\"c\",\"a\"]:\n",
    "            pass\n",
    "        else:\n",
    "            l.append(i)\n",
    "    if len(l)!=0:\n",
    "        a=\"False\"\n",
    "    else:\n",
    "        a=\"True\"\n",
    "    return a\n",
    "# verification de la fonction avec une des variables déclarées précedemment\n",
    "est_adn(adn5)"
   ]
  },
  {
   "cell_type": "code",
   "execution_count": 5,
   "id": "bdba4ca3",
   "metadata": {},
   "outputs": [
    {
     "data": {
      "text/plain": [
       "'1'"
      ]
     },
     "execution_count": 5,
     "metadata": {},
     "output_type": "execute_result"
    }
   ],
   "source": [
    "#Une sequence est un gène si:\n",
    "def est_gene (g):\n",
    "    while est_adn(g)== 'True': # la sequence corresponde à un gène si return =1\n",
    "        if g[:3] =='atg'and g[-3:]=='tag':\n",
    "            return(\"1\") \n",
    "        elif g[:3] =='atg'and g[-3:]=='taa':\n",
    "                return (\"1\")\n",
    "        elif g[:3] =='atg'and g[-3:]=='tga':\n",
    "               return(\"1\")\n",
    "        else:\n",
    "            return('0') #la sequence ne corresponde pas à un gene si return = 0\n",
    "# verification de la fonction sur une chaine ADN aléatoire        \n",
    "est_gene ('atgagtgaacgtctgagcattaccccgctggggccgtatatcggcgcatgatagtaatga')"
   ]
  },
  {
   "cell_type": "markdown",
   "id": "18e41387",
   "metadata": {},
   "source": [
    "# CALCULER LE POIDS MOLÉCULAIRE D'UNE CHAINE D'ADN\n",
    "Cette partie est composée de deux fonctions qui calculent le poids moléculaire d'une \n",
    "chaîne ADN et puis comparent les poids des plusieurs chaines en retournant la plus lourde\n",
    "d'entre les sequences comparées.\n"
   ]
  },
  {
   "cell_type": "code",
   "execution_count": 6,
   "id": "3ca4b544",
   "metadata": {},
   "outputs": [
    {
     "data": {
      "text/plain": [
       "('le poids de la chaine est', 3060, 'ug/umol')"
      ]
     },
     "execution_count": 6,
     "metadata": {},
     "output_type": "execute_result"
    }
   ],
   "source": [
    "# cette focntion prend en argument une seule sequence d'adn et calcule leur poids\n",
    "def poids_moleculaire_adn(s):\n",
    "       if est_adn(s)== 'True':\n",
    "        a= s.count('t')+s.count('a')\n",
    "        b= 260*a # on considère que le poids d'une couple AT est d'environ 260 ug/umol\n",
    "        c=s.count('g')+ s.count('c')\n",
    "        d= 245*c # on considère que le poids d'une couple GC est d'environ 245 ug/umol\n",
    "        f=b+d \n",
    "        return('le poids de la chaine est',f, 'ug/umol')\n",
    "# Verification de la focntion \n",
    "poids_moleculaire_adn(adn3)"
   ]
  },
  {
   "cell_type": "code",
   "execution_count": 7,
   "id": "1f4bc9af",
   "metadata": {},
   "outputs": [
    {
     "data": {
      "text/plain": [
       "('atgagtgaacgtctgagcattaccccgctggggccgtatatcggcgcatga',\n",
       " ('le poids de la chaine est', 12825, 'ug/umol'))"
      ]
     },
     "execution_count": 7,
     "metadata": {},
     "output_type": "execute_result"
    }
   ],
   "source": [
    "# Cette fonction prend comme argument une liste de sequences d'ADN et retourne la plus lourde\n",
    "# chaine parmi les élements de la liste de sequences d'ADN en afichant la séquence et leur poids correspondant.\n",
    "def adn_plus_lourd (liste):\n",
    "    poids=[]\n",
    "    comp={}\n",
    "    for i in liste:\n",
    "        f=poids_moleculaire_adn(i)\n",
    "        poids.append(f)\n",
    "        for key in liste:\n",
    "             for value in poids:\n",
    "                comp[key]=value\n",
    "                poids.remove(value)\n",
    "                break\n",
    "        for key,value in comp.items(): # on extrait que la chaine la plus lourde de la liste et on affiche son poids moléculaire.\n",
    "            if max(comp.values())== value :\n",
    "                return(key,f)\n",
    "# verification: soit genes une liste de sequences d'ADN\n",
    "genes=[\"atgagtgaacgtctgagcattaccccgctggggccgtatatcggcgcatga\",\"atgagtgaacgtctgagcattaccccgctggggccgtatatcggcgcacaataactaa\",\"atagcgagaggctgagcattaccccgctggggccgtatatcggcgcacaataacccaaataa\"]\n",
    "# on obtient la sequence la plus lourde en appliquant la focntion adn_plus_lourd\n",
    "adn_plus_lourd (genes)                      "
   ]
  },
  {
   "cell_type": "markdown",
   "id": "ad2a91ea",
   "metadata": {},
   "source": [
    "# TRADUCTION D'UNE SÉQUENCE D'ADN\n",
    "En ce partie, se developpent plusieurs fonctions qui permettront de pas à pas obtenir\n",
    "la sequence protéique correspondant de la sequence d'ADN initial."
   ]
  },
  {
   "cell_type": "code",
   "execution_count": 8,
   "id": "108e5936",
   "metadata": {},
   "outputs": [
    {
     "name": "stdout",
     "output_type": "stream",
     "text": [
      "purinique\n",
      "dict_keys(['a', 'g', 't', 'c'])\n",
      "dict_values(['purinique', 'purinique', 'pyrimidinique', 'pyrimidinique'])\n"
     ]
    }
   ],
   "source": [
    "# 1. Définition du dicctionnaire: ce dictionnaire associe à chaque base d'ADN leur type correspondant\n",
    "dic={\"a\":\"purinique\",\"g\": \"purinique\",\"t\":\"pyrimidinique\", \"c\": \"pyrimidinique\"}\n",
    "print (dic.get(\"a\"))\n",
    "print (dic.keys())\n",
    "print (dic.values())"
   ]
  },
  {
   "cell_type": "code",
   "execution_count": 9,
   "id": "f18aa527",
   "metadata": {},
   "outputs": [
    {
     "data": {
      "text/plain": [
       "'augagugaacgucugagcauuaccccgcuggggccguauaucggcgcauga'"
      ]
     },
     "execution_count": 9,
     "metadata": {},
     "output_type": "execute_result"
    }
   ],
   "source": [
    "#Traduction d'un séquence ADN en ARNm:\n",
    "def adn_to_arn (adn):\n",
    "    dic={'a':'a','t':'u','c':'c','g':'g'}\n",
    "    r=''\n",
    "    for i in adn:\n",
    "        comp=dic.get(i)\n",
    "        r=r+comp\n",
    "    return r\n",
    "# vérification de la fonction\n",
    "adn_to_arn(adn1)"
   ]
  },
  {
   "cell_type": "code",
   "execution_count": 10,
   "id": "f5a4a0b7",
   "metadata": {},
   "outputs": [
    {
     "data": {
      "text/plain": [
       "['UCU', 'AGG', 'CUG']"
      ]
     },
     "execution_count": 10,
     "metadata": {},
     "output_type": "execute_result"
    }
   ],
   "source": [
    "#affichage codon: ce focntion prend comme paramètre une sequence\n",
    "#d'ADN et affiche la liste des codons présents dans cette séquence. \n",
    "h = \"UCUAGGCUG\"\n",
    "def affichage_codon(arn):\n",
    "    n=3\n",
    "    s=[]\n",
    "    for i in range(0, len(arn), n):\n",
    "        result = arn[i:i+n]\n",
    "        s.append(result)\n",
    "    return (s)\n",
    "#test\n",
    "affichage_codon(h)"
   ]
  },
  {
   "cell_type": "code",
   "execution_count": 11,
   "id": "870d8f88",
   "metadata": {},
   "outputs": [],
   "source": [
    "# À PARTIR du fichier code _genetique on cree le dictionnaire du même nom qui contient le code sous la forme UUU F\n",
    "arch= open(r'C:\\Users\\Lourdes  TIRADO\\Documents\\BIOTECHNOLOGIEScience por la santé\\L2 BIOTECH\\S4\\SI 2\\Untitled Folder\\code_genetique.txt', 'r')\n",
    "code_genetique={}\n",
    "for line in arch:\n",
    "    (key, val) = line.split()\n",
    "    code_genetique[key] = val"
   ]
  },
  {
   "cell_type": "code",
   "execution_count": 12,
   "id": "cd4414bb",
   "metadata": {},
   "outputs": [
    {
     "data": {
      "text/plain": [
       "'SFLL'"
      ]
     },
     "execution_count": 12,
     "metadata": {},
     "output_type": "execute_result"
    }
   ],
   "source": [
    "# La focntion arn_to_proteine permet de traduire une chaine proteique \n",
    "c= ('UCUUUCUUAUUG')\n",
    "def arn_to_protein(code):\n",
    "    d= affichage_codon(code)\n",
    "    stock=\"\"\n",
    "    for z in d:\n",
    "        prot=code_genetique.get(z)# on utilise le dictionnaire crée précédament\n",
    "        stock=stock+prot\n",
    "    return stock\n",
    "arn_to_protein(c)"
   ]
  },
  {
   "cell_type": "markdown",
   "id": "b5b5366b",
   "metadata": {},
   "source": [
    "# COMPARAISON DES DEUX CHAÎNES'ADN : \n",
    "Pour l'analyse de la complmentairité des deux chaines d'ADN ont a besoin de definir \n",
    "certines fonction en avance. en premier une fonction qui define le complementaire d'une chaine\n",
    "d'ADN. Couramment on analyse des sequences d'ADN 5'-3' pour lequels leur complementaire serait une chaine 3'-5'. \n",
    "Mais si on compare la complementarité \n",
    "des deux chaines données 5'-3'  on doit connaitre l'inverse de ces chaines pour faire la comparaison.\n",
    "Dans ce but, les fonctions 'complementaire' et 'inverse' ont été définiés et sont utilisées pour définir la focntion\n",
    "'comp_2chaines':"
   ]
  },
  {
   "cell_type": "code",
   "execution_count": 13,
   "id": "94cc72b0",
   "metadata": {},
   "outputs": [
    {
     "name": "stdout",
     "output_type": "stream",
     "text": [
      "attention les séquences n’ont pas la même longueur\n"
     ]
    },
    {
     "data": {
      "text/plain": [
       "0"
      ]
     },
     "execution_count": 13,
     "metadata": {},
     "output_type": "execute_result"
    }
   ],
   "source": [
    "# déclaration des valeurs àutiliser pour la vérification des fonctiones\n",
    "af= 'tagtagcgtagctagctgacgat'\n",
    "bf='atcatcgat'\n",
    "# Définition de foncton pour obtenir la chaine complementaire \n",
    "def complementaire(adn):\n",
    "    dic={'a':'t','t':'a','c':'g','g':'c'}\n",
    "    r=''\n",
    "    for i in adn:\n",
    "        comp=dic.get(i)\n",
    "        r=r+comp\n",
    "    return r\n",
    "def inverse(chaine):\n",
    "    return(chaine[::-1])         \n",
    "    #On appelle la chaine obtenu a (3' -5') et on doit la comparer avec une chaîne b (5'-3'),donc l'inverse de b == a si \n",
    "    #les chaines sont complementaires ---> donc on va définir comp_2chaines pour l'analyse de complementarité entre deux \n",
    "    #sequences d'ADN donné.\n",
    "def comp_2chaines(a,b): #la fonction prend comme argument les deux sequences à comparer \n",
    "    if len(a)!=len(b): # d'abord on doit comparer la longueur des chaines comme première critère d'invalidation. \n",
    "        print('attention les séquences n’ont pas la même longueur')\n",
    "    c= complementaire(a)\n",
    "    d= complementaire(b)\n",
    "    if c== inverse(b) and d==inverse(a):\n",
    "        t=1 # les sequences sont complementaires dans les deux senses\n",
    "    else:\n",
    "        t=0 #les sequences ne sont pas complementaires\n",
    "    return t\n",
    "# vérfication de la fonction.\n",
    "comp_2chaines(af,bf)"
   ]
  },
  {
   "cell_type": "markdown",
   "id": "3f037eba",
   "metadata": {},
   "source": [
    "# ÉTUDE DE TROIS SÉQUENCES D'ADN INCONNUES\n",
    "Sequences obtenues à partir du fichier sequence_finales.À partir de ces séquences \n",
    "on va vérifier s'ils s'agissent des sequences d'ADN et si sont de gènes, puis \n",
    "on calcule leurs poids moléculaires, subsequentement se fait la traduction des trois sequences en ARNm puis en protèines.\n",
    "Les résultats obtenues seront enregistrées sous le format fasta."
   ]
  },
  {
   "cell_type": "code",
   "execution_count": 17,
   "id": "07a98507",
   "metadata": {},
   "outputs": [],
   "source": [
    "#analyse des sequences, l'étude qu'on souhaite faire aux sequence  est regroupe sous une seule fonction qu'on appellera analyse \n",
    "#et qui prend comme argument une chaine de caractéres sur laquelle s'effectuent les operations suivants.\n",
    "def analyse(element):\n",
    "    a= est_gene(element) # verifie si la sequence est un gène ou non  \n",
    "    b= poids_moleculaire_adn(element) # calcule le poids de la sequence donné\n",
    "    c= adn_to_arn(element)# obtention du ARNm à partir de la sequence ADN donné en argument.\n",
    "    e= c.upper()\n",
    "    if a == '1':\n",
    "         d= arn_to_protein(e)# obtention de la sequence protéique.\n",
    "    else: \n",
    "        print( 'la chaine ne correspond pas à une gène')\n",
    "    # regroupe les resultats obtenues sous deux fichiers fasta\n",
    "    resultats = open('Analyse de trois sequences ADN.fasta','a') #Dans ce fichier on trouvera la sequence analysé + poid moléculaire+ seq.prot.\n",
    "    resultats.write('>'+ 'sequence' +'\\n'  + str (element)+ '\\n'+str (b) +'\\n' + 'la sequence proteique:'+ '\\n' + str(d)+'\\n' )\n",
    "    resultats.close()\n",
    "    seq_prot = open('seq_prot.fasta','a') # dans ce fichier, on obtient séparément les sequences protéiques correspondants à chaque seq ADN.\n",
    "    seq_prot.write('>'+'prot x'+'\\n'+ str(d)+'\\n')\n",
    "    seq_prot.close()"
   ]
  },
  {
   "cell_type": "code",
   "execution_count": 18,
   "id": "adbba68e",
   "metadata": {},
   "outputs": [],
   "source": [
    "# Traitement du fichier fasta contenant les sequences d'adn pour analyse.\n",
    "prot_dict ={}\n",
    "with open(\"sequences_finales.fasta\",'r') as fasta_file: # le fichier est ouvert sous un forme de dictionnaire id +sequence.\n",
    "    prot_id = \"\"\n",
    "    for line in fasta_file:\n",
    "        if line.startswith(\">\"):\n",
    "            prot_id = line[1:].split()[0]\n",
    "            prot_dict[prot_id]=\"\"\n",
    "        else:\n",
    "            prot_dict[prot_id]+=line.strip()\n",
    "# extraction des sequences pour analyse:\n",
    "for i in prot_dict.values():\n",
    "    analyse(i) # analyse des sequences."
   ]
  },
  {
   "cell_type": "code",
   "execution_count": 20,
   "id": "068a5f6d",
   "metadata": {},
   "outputs": [
    {
     "name": "stdout",
     "output_type": "stream",
     "text": [
      ">sequence\n",
      "\n",
      "atgggccctgtggatgcgcctcctgcccctgctggcgctgctggccctctggggacctgacccagccgcagcctttgtgaaccaacacctgtgcggctcacacctggtggaagctctctacctagtgtgcggggaacgaggcttcttctacacacccaagacccgccgggaggcagaggacctgcaggggggcaggtggagctgggcgggggccctggtgcaggcagcctgcagcccttggccctggaggggtccctgcagaagcgtggcattgtggaacaatgctgtaccagcatctgctccctctaccagctggagaactactgcaactag\n",
      "\n",
      "('le poids de la chaine est', 83340, 'ug/umol')\n",
      "\n",
      "la sequence proteique:\n",
      "\n",
      "MGPVDAPPAPAGAAGPLGTstopPSRSLCEPTPVRLTPGGSSLPSVRGTRLLLHTQDPPGGRGPAGGQVELGGGPGAGSLQPLALEGSLQKRGIVEQCCTSICSLYQLENYCNstop\n",
      "\n",
      ">sequence\n",
      "\n",
      "atggccgtcatggcgccccgaaccctcctcctgctactctcgggggccctggccctgacccagacctgggcgggctcccactccatgaggtatttcttcacatccgtgtcccggcccggccgcggggagccccgcttcatcgccgtgggctacgtggacgacacgcagttcgtgcggttcgacagcgacgccgcgagccagaagatggagccgcgggcgccgtggatagagcaggaggggccggagtattgggaccaggagacacggaatatgaaggcccactcacagactgaccgagcgaacctggggaccctgcgcggctactacaaccagagcgaggacggttctcacaccatccagataatgtatggctgcgacgtggggccggacgggcgcttcctccgcgggtaccggcaggacgcctacgacggcaaggattacatcgccctgaacgaggacctgcgctcttggaccgcggcggacatggcagctcagatcaccaagcgcaagtgggaggcggtccatgcggcggagcagcggagagtctacctggagggccggtgcgtggacgggctccgcagatacctggagaacgggaaggagacgctgcagcgcacggacccccccaagacacatatgacccaccaccccatctctgaccatgaggccaccctgaggtgctgggccctgggcttctaccctgcggagatcacactgacctggcagcgggatggggaggaccagacccaggacacggagctcgtggagaccaggcctgcaggggatggaaccttccagaagtgggcggctgtggtggtgccttctggagaggagcagagatacacctgccatgtgcagcatgagggtctgcccaagcccctcaccctgagatgggagctgtcttcccagcccaccatccccatcgtgggcatcattgctggcctggttctccttggagctgtgatcactggagctgtggtcgctgccgtgatgtggaggaggaagagctcagatagaaaaggagggagttacactcaggctgcaagcagtgacagtgcccagggctctgatgtgtctctcacagcttgtaaagtgtga\n",
      "\n",
      "('le poids de la chaine est', 274980, 'ug/umol')\n",
      "\n",
      "la sequence proteique:\n",
      "\n",
      "MAVMAPRTLLLLLSGALALTQTWAGSHSMRYFFTSVSRPGRGEPRFIAVGYVDDTQFVRFDSDAASQKMEPRAPWIEQEGPEYWDQETRNMKAHSQTDRANLGTLRGYYNQSEDGSHTIQIMYGCDVGPDGRFLRGYRQDAYDGKDYIALNEDLRSWTAADMAAQITKRKWEAVHAAEQRRVYLEGRCVDGLRRYLENGKETLQRTDPPKTHMTHHPISDHEATLRCWALGFYPAEITLTWQRDGEDQTQDTELVETRPAGDGTFQKWAAVVVPSGEEQRYTCHVQHEGLPKPLTLRWELSSQPTIPIVGIIAGLVLLGAVITGAVVAAVMWRRKSSDRKGGSYTQAASSDSAQGSDVSLTACKVstop\n",
      "\n",
      ">sequence\n",
      "\n",
      "atggcggcggccgacggcgacgactcgctgtaccccatcgcggtgctcatagacgaactccgcaatgaggacgttcagcttcgcctcaacagcatcaagaagctgtccaccatcgccttggcccttggggttgaaaggacccgaagtgagcttctgcctttccttacagataccatctatgatgaagatgaggtcctcctggccctggcagaacagctgggaaccttcactaccctggtgggaggcccagagtacgtgcactgcctgctgccaccgctggagtcgctggccacagtggaggagacagtggtgcgggacaaggcagtggagtccttacgggccatctcacacgagcactcgccctctgacctggaggcgcactttgtgccgctagtgaagcggctggcgggcggcgactggttcacctcccgcacctcggcctgcggcctcttctccgtctgctacccccgagtgtccagtgctgtgaaggcggaacttcgacagtacttccggaacctgtgctcagatgacacccccatggtgcggcgggccgcagcctccaagctgggggagtttgccaaggtgctggagctggacaacgtcaagagtgagatcatccccatgttctccaacctggcctctgacgagcaggactcggtgcggctgctggcggtggaggcgtgcgtgaacatcgcccagcttctgccccaggaggatctggaggccctggtgatgcccactctgcgccaggccgctgaagacaagtcctggcgcgtccgctacatggtggctgacaagttcacagagctccagaaagcagtggggcctgagatcaccaagacagacctggtccctgccttccagaacctgatgaaagactgtgaggccgaggtgagggccgcagcctcccacaaggtcaaagagttctgtgaaaacctctcagctgactgtcgggagaatgtgatcatgtcccagatcttgccctgcatcaaggagctggtgtccgatgccaaccaacatgtcaagtctgccctggcctcagtcatcatgggtctctctcccatcttgggcaaagacaacaccatcgagcacctcttgcccctcttcctggctcagctgaaggatgagtgccctgaggtacggctgaacatcatctctaacctggactgtgtgaacgaggtgattggcatccggcagctgtcccagtccctgctccctgccattgtggagctggctgaggacgccaagtggcgggtgcggctggccatcattgagtacatgcccctcctggctggacagctgggagtggagttctttgatgagaaacttaactccttgtgcatggcctggcttgtggatcatgtatatgccatccgcgaggcagccaccagcaacctgaagaagctagtggaaaagtttgggaaggagtgggcccatgccacaatcatccccaaggtcttggccatgtccggagaccccaactacctgcaccgcatgactacgctcttctgcatcaatgtgctgtctgaggtctgtgggcaggacatcaccaccaagcacatgctacccacggttctgcgcatggctggggacccggttgccaatgtccgcttcaatgtggccaagtctctgcagaagatagggcccatcctggacaacagcaccttgcagagtgaagtcaagcccatcctagagaagctgacccaggaccaggatgtggacgtcaaatactttgcccaggaggctctgactgttctgtctctcgcctga\n",
      "\n",
      "('le poids de la chaine est', 444525, 'ug/umol')\n",
      "\n",
      "la sequence proteique:\n",
      "\n",
      "MAAADGDDSLYPIAVLIDELRNEDVQLRLNSIKKLSTIALALGVERTRSELLPFLTDTIYDEDEVLLALAEQLGTFTTLVGGPEYVHCLLPPLESLATVEETVVRDKAVESLRAISHEHSPSDLEAHFVPLVKRLAGGDWFTSRTSACGLFSVCYPRVSSAVKAELRQYFRNLCSDDTPMVRRAAASKLGEFAKVLELDNVKSEIIPMFSNLASDEQDSVRLLAVEACVNIAQLLPQEDLEALVMPTLRQAAEDKSWRVRYMVADKFTELQKAVGPEITKTDLVPAFQNLMKDCEAEVRAAASHKVKEFCENLSADCRENVIMSQILPCIKELVSDANQHVKSALASVIMGLSPILGKDNTIEHLLPLFLAQLKDECPEVRLNIISNLDCVNEVIGIRQLSQSLLPAIVELAEDAKWRVRLAIIEYMPLLAGQLGVEFFDEKLNSLCMAWLVDHVYAIREAATSNLKKLVEKFGKEWAHATIIPKVLAMSGDPNYLHRMTTLFCINVLSEVCGQDITTKHMLPTVLRMAGDPVANVRFNVAKSLQKIGPILDNSTLQSEVKPILEKLTQDQDVDVKYFAQEALTVLSLAstop\n",
      "\n"
     ]
    }
   ],
   "source": [
    "#lecture du fichier contenant les resultats obtenues après analyses des trois sequences obtenues\n",
    "with open ('Analyse de trois sequences ADN.fasta','r') as fasta:\n",
    "    for line in fasta:      \n",
    "        print(line)"
   ]
  },
  {
   "cell_type": "markdown",
   "id": "743a3bc7",
   "metadata": {},
   "source": [
    "À partir des sequences protéiques obtenues on a procédé à identifier leur nature en utilisant le logiciel hmmpfam.\n",
    "Pour la séquence obtenu à partir du Adn_inconnu1 on à identifié la sequence codant pour l'insuline/IGF/RELAXING family.\n",
    "Il s'agit d'un groupe de protéines apparentées du point de vue de l'évolution qui possèdent diverses activités hormonales\n",
    "dans ce cas le logiciel a indentifié, dans la séquence protéique cherché, peptides signal et régions transmembranaires correspondant à l'insuline.\n",
    "\n",
    "Pour l'analyse de Adn_inconnu2, le logiciel à trouvé trois coincidences en different degrées avec les proteines suivants:\n",
    "- Class I Histocompatibility antigen, domains alpha 1 and 2 : région d'alignement 25-203\n",
    "- \tMHC_I C-terminus : région d'alignement 219-290\n",
    "- Immunoglobulin C1-set domain : région d'alignement 337-364\n",
    "    \n",
    "Pour la sequence protéique obtenu à partir d'Adn_inconnu3, le logiciel à indentifié des correspondances avec HEAT-2 protein domain\n",
    "Les resultats obtenues sont affichées dans les images ci-dessous."
   ]
  },
  {
   "cell_type": "code",
   "execution_count": 17,
   "id": "8a6e9ab9",
   "metadata": {},
   "outputs": [
    {
     "name": "stdout",
     "output_type": "stream",
     "text": [
      "Résumé génerale AxesImage(54,36;334.8x217.44)\n"
     ]
    },
    {
     "data": {
      "image/png": "[encoded data removed]",
      "text/plain": [
       "<Figure size 432x288 with 1 Axes>"
      ]
     },
     "metadata": {
      "needs_background": "light"
     },
     "output_type": "display_data"
    }
   ],
   "source": [
    "import matplotlib.image as mpimg\n",
    "import matplotlib.pyplot as plt\n",
    "img= mpimg.imread('HMMER analysis.png')\n",
    "print ('Résumé génerale',plt.imshow(img))"
   ]
  },
  {
   "cell_type": "code",
   "execution_count": 18,
   "id": "0d660f54",
   "metadata": {},
   "outputs": [
    {
     "name": "stdout",
     "output_type": "stream",
     "text": [
      "Analyse de sequence à partir dADN inconnu 1 :Insuline AxesImage(54,36;334.8x217.44)\n"
     ]
    },
    {
     "data": {
      "image/png": "[encoded data removed]",
      "text/plain": [
       "<Figure size 432x288 with 1 Axes>"
      ]
     },
     "metadata": {
      "needs_background": "light"
     },
     "output_type": "display_data"
    }
   ],
   "source": [
    "analyse1=mpimg.imread('Insulin.png')\n",
    "print ('Analyse de sequence à partir dADN inconnu 1 :Insuline' ,plt.imshow(analyse1))"
   ]
  },
  {
   "cell_type": "code",
   "execution_count": 19,
   "id": "c19ca5b8",
   "metadata": {},
   "outputs": [
    {
     "name": "stdout",
     "output_type": "stream",
     "text": [
      "Analyse de sequence à partir dADN inconnu 2 :AgI,MHC:I,immunoglobuline AxesImage(54,36;334.8x217.44)\n"
     ]
    },
    {
     "data": {
      "image/png": "[encoded data removed]",
      "text/plain": [
       "<Figure size 432x288 with 1 Axes>"
      ]
     },
     "metadata": {
      "needs_background": "light"
     },
     "output_type": "display_data"
    }
   ],
   "source": [
    "analyse2=mpimg.imread('hmmer prot 2.png')\n",
    "print ('Analyse de sequence à partir dADN inconnu 2 :AgI,MHC:I,immunoglobuline',plt.imshow(analyse2))"
   ]
  },
  {
   "cell_type": "code",
   "execution_count": 20,
   "id": "23867b60",
   "metadata": {},
   "outputs": [
    {
     "name": "stdout",
     "output_type": "stream",
     "text": [
      "Analyse de sequence à partir dADN inconnu 3 :HEAT_2 AxesImage(54,36;334.8x217.44)\n"
     ]
    },
    {
     "data": {
      "image/png": "[encoded data removed]",
      "text/plain": [
       "<Figure size 432x288 with 1 Axes>"
      ]
     },
     "metadata": {
      "needs_background": "light"
     },
     "output_type": "display_data"
    }
   ],
   "source": [
    "analyse3=mpimg.imread('prot.3 heat.png')\n",
    "print ('Analyse de sequence à partir dADN inconnu 3 :HEAT_2',plt.imshow(analyse3))"
   ]
  },
  {
   "cell_type": "code",
   "execution_count": 21,
   "id": "867e721a",
   "metadata": {},
   "outputs": [],
   "source": [
    "#lecture d'un fichier fasta: lecture_fasta prend pas d'argument mais cette fonction sert à ouvrir un fichier en format fasta \n",
    "# en te demandant le nom du fichier qui en dependance de leur ubication prend soit le path du fichier ou seulement le mon du fichier\n",
    "def lecture_fasta():\n",
    "    nom=input('le nom du fichier ') # demande le nom du fichier / path\n",
    "    dictionaire = {} # l'ouverture du fichier est faite sur forme d'un dictionnaire ou la clé est le nom de la sequence/description\n",
    "    with open(nom,'r')as fasta:\n",
    "        rs=''\n",
    "        for line in fasta:\n",
    "            if line.startswith(\">\"):\n",
    "                dictionaire = line[1:].split('\\n')[0]\n",
    "                dictionaire[rs]=''\n",
    "            else:\n",
    "                dictionaire[rs]+=line.strip()\n",
    "        for i in rs:\n",
    "            print(i) # key\n",
    "            print(dictionaire[i])# value\n",
    "#La fonction eciture_fasta, prend comme argument des listes contenant les noms des sequences, \n",
    "#leur poids et les sequences traduites en proteines, puis prend chaque element de chaque liste et \n",
    "#les met sous un format fasta dans l'ordre correspondant.\n",
    "def ecriture_fasta(nom,nom_seq,sequences,poids, proteins):\n",
    "    with open(nom,'w') as fasta:\n",
    "        r=0\n",
    "        while r < len(nom_seq):\n",
    "            fasta.write('>'+ nom_seq [r]+'\\n'+ sequences[r]+'\\n'+ poids[r]+'\\n'+proteins[r]+ '\\n')\n",
    "            r=r+1"
   ]
  }
 ],
 "metadata": {
  "kernelspec": {
   "display_name": "Python 3 (ipykernel)",
   "language": "python",
   "name": "python3"
  },
  "language_info": {
   "codemirror_mode": {
    "name": "ipython",
    "version": 3
   },
   "file_extension": ".py",
   "mimetype": "text/x-python",
   "name": "python",
   "nbconvert_exporter": "python",
   "pygments_lexer": "ipython3",
   "version": "3.9.7"
  }
 },
 "nbformat": 4,
 "nbformat_minor": 5
}
